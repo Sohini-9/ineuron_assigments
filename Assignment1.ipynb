{
  "nbformat": 4,
  "nbformat_minor": 0,
  "metadata": {
    "colab": {
      "provenance": []
    },
    "kernelspec": {
      "name": "python3",
      "display_name": "Python 3"
    },
    "language_info": {
      "name": "python"
    }
  },
  "cells": [
    {
      "cell_type": "markdown",
      "source": [],
      "metadata": {
        "id": "w48PcYXvdiQG"
      }
    },
    {
      "cell_type": "code",
      "execution_count": 3,
      "metadata": {
        "id": "2sbh9NtqdRge"
      },
      "outputs": [],
      "source": []
    },
    {
      "cell_type": "markdown",
      "source": [
        "1. In the below elements which of them are values or an expression? eg:- values can be\n",
        "integer or string and expressions will be mathematical operators.\n",
        "* -> expression\n",
        "hello -> values\n",
        "-87.8 -> values\n",
        "- -> expression\n",
        "/ -> expression\n",
        "+ -> expression\n",
        "6 -> values\n"
      ],
      "metadata": {
        "id": "PNUoPu5cjSoB"
      }
    },
    {
      "cell_type": "code",
      "source": [],
      "metadata": {
        "id": "PKxI9MEpfdoO"
      },
      "execution_count": 3,
      "outputs": []
    },
    {
      "cell_type": "markdown",
      "source": [
        "2. What is the difference between string and variable?\n",
        "-> A Variable is a store of information, and a String is a type of information we would store in a Variable. A String is usually words, enclosed with \"\".\n",
        "Basically, we can think of the variable as box in whcih if we want to insert the value which is tring type we store in it.\n",
        "\n",
        "Eg\n",
        "String x =\"This is me\"\n",
        "x is the Variable, and we declared it as a String so we stored the value in that string type.\n"
      ],
      "metadata": {
        "id": "2pOf8tmAjLE0"
      }
    },
    {
      "cell_type": "code",
      "source": [],
      "metadata": {
        "id": "oei1YObjhVs0"
      },
      "execution_count": null,
      "outputs": []
    },
    {
      "cell_type": "markdown",
      "source": [
        "3. Describe three different data types.\n",
        "-> Integers: Integers are whole numbers, without a fractional component. They can be positive or negative.\n",
        "   Floats: Floats represent real numbers and are written with a decimal point.\n",
        "   Strings: Strings in Python are sequences of character data. They are created by enclosing characters in quotes."
      ],
      "metadata": {
        "id": "JlLJLflOjHIo"
      }
    },
    {
      "cell_type": "markdown",
      "source": [
        "4. What is an expression made up of? What do all expressions do?\n",
        "-> An expression is a combination of operators, constants and variables. An expression may consist of one or more operands, and zero or more operators to produce a value."
      ],
      "metadata": {
        "id": "O8vsuaoVjEpf"
      }
    },
    {
      "cell_type": "markdown",
      "source": [
        "5. This assignment statements, like spam = 10. What is the difference between an\n",
        "expression and a statement?\n",
        "-> Expressions can be assigned or used as operands, while statements can only be declared.\n",
        "Expressions are values or execute to values while a statement in Python is not evaluated for some results."
      ],
      "metadata": {
        "id": "Nflju8rilRgh"
      }
    },
    {
      "cell_type": "markdown",
      "source": [
        "6. After running the following code, what does the variable bacon contain?\n",
        "bacon = 22\n",
        "bacon + 1\n",
        "-> bacon holds the value of 22."
      ],
      "metadata": {
        "id": "viPEBz24ms07"
      }
    },
    {
      "cell_type": "markdown",
      "source": [
        "7. What should the values of the following two terms be?\n",
        "-> spamspamspam\n",
        "spamspamspam"
      ],
      "metadata": {
        "id": "vAo9Za7xne7b"
      }
    },
    {
      "cell_type": "markdown",
      "source": [
        "8. Why is eggs a valid variable name while 100 is invalid?\n",
        "-> The variable name can't start with a numerical value."
      ],
      "metadata": {
        "id": "Nb4_I-HFoG-R"
      }
    },
    {
      "cell_type": "markdown",
      "source": [
        "9. What three functions can be used to get the integer, floating-point number, or string\n",
        "version of a value?\n",
        "-> int(), float(), and str() are the three functions that can be used to get the integer, floating-point number, or string version of a value."
      ],
      "metadata": {
        "id": "iTotN-zpojal"
      }
    },
    {
      "cell_type": "markdown",
      "source": [
        "10. Why does this expression cause an error? How can you fix it?\n",
        "-> The expression causes error because we can only concatenate the strings and 99 is not string so, we add quotes to make it string and then concatenate. The corrected expression is as follows:\n",
        "'I have eaten'+ ' 99 ' +'burritos.'"
      ],
      "metadata": {
        "id": "S6dqtVx2prvV"
      }
    },
    {
      "cell_type": "code",
      "source": [
        "'I have eaten'+ ' 99 ' +'burritos.'"
      ],
      "metadata": {
        "colab": {
          "base_uri": "https://localhost:8080/",
          "height": 36
        },
        "id": "-Ica5h6hnG8r",
        "outputId": "a4f6b652-628c-47de-dfc7-d608ffb95392"
      },
      "execution_count": 13,
      "outputs": [
        {
          "output_type": "execute_result",
          "data": {
            "text/plain": [
              "'I have eaten 99 burritos.'"
            ],
            "application/vnd.google.colaboratory.intrinsic+json": {
              "type": "string"
            }
          },
          "metadata": {},
          "execution_count": 13
        }
      ]
    },
    {
      "cell_type": "code",
      "source": [],
      "metadata": {
        "id": "yKhsCvZ_nIOO"
      },
      "execution_count": null,
      "outputs": []
    }
  ]
}