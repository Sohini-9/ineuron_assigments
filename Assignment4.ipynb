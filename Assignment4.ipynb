{
  "nbformat": 4,
  "nbformat_minor": 0,
  "metadata": {
    "colab": {
      "provenance": []
    },
    "kernelspec": {
      "name": "python3",
      "display_name": "Python 3"
    },
    "language_info": {
      "name": "python"
    }
  },
  "cells": [
    {
      "cell_type": "code",
      "execution_count": null,
      "metadata": {
        "id": "GogXplOhNT7c"
      },
      "outputs": [],
      "source": []
    },
    {
      "cell_type": "markdown",
      "source": [
        "1. What exactly is []?\n",
        "-> [ ] is a empty list."
      ],
      "metadata": {
        "id": "g_hA-0svNVPS"
      }
    },
    {
      "cell_type": "markdown",
      "source": [
        "2. In a list of values stored in a variable called spam, how would you assign the value 'hello' as the\n",
        "third value? (Assume [2, 4, 6, 8, 10] are in spam.)"
      ],
      "metadata": {
        "id": "ocLRgPtmNgBN"
      }
    },
    {
      "cell_type": "code",
      "source": [
        "spam = [2, 4, 6, 8, 10]\n",
        "spam[2] = 'hello'\n",
        "spam"
      ],
      "metadata": {
        "id": "zlvvtMGWNySq"
      },
      "execution_count": null,
      "outputs": []
    },
    {
      "cell_type": "markdown",
      "source": [
        "3. Let's pretend the spam includes the list ['a','b','c','d'] for the next three queries. What is the value of spam[int(int('3' * 2) / 11)]?\n"
      ],
      "metadata": {
        "id": "J-qLBMsJOZzE"
      }
    },
    {
      "cell_type": "code",
      "source": [
        "spam = ['a', 'b','c','d']\n",
        "spam[int(int('3' * 2) / 11)] # spam[int(33/11)] = spam[3]"
      ],
      "metadata": {
        "colab": {
          "base_uri": "https://localhost:8080/",
          "height": 36
        },
        "id": "kMnKxxryOjSX",
        "outputId": "d00e06cc-dd8a-4e02-d5a3-28eb9f20f79e"
      },
      "execution_count": 1,
      "outputs": [
        {
          "output_type": "execute_result",
          "data": {
            "text/plain": [
              "'d'"
            ],
            "application/vnd.google.colaboratory.intrinsic+json": {
              "type": "string"
            }
          },
          "metadata": {},
          "execution_count": 1
        }
      ]
    },
    {
      "cell_type": "markdown",
      "source": [
        "4. What is the value of spam[-1]?"
      ],
      "metadata": {
        "id": "PO1JEHGAPHpJ"
      }
    },
    {
      "cell_type": "code",
      "source": [
        "spam[-1] #negative index so from last"
      ],
      "metadata": {
        "colab": {
          "base_uri": "https://localhost:8080/",
          "height": 36
        },
        "id": "pIsMLi8LPIoe",
        "outputId": "832e7cdd-4501-4f94-f33c-915d48c6bea4"
      },
      "execution_count": 2,
      "outputs": [
        {
          "output_type": "execute_result",
          "data": {
            "text/plain": [
              "'d'"
            ],
            "application/vnd.google.colaboratory.intrinsic+json": {
              "type": "string"
            }
          },
          "metadata": {},
          "execution_count": 2
        }
      ]
    },
    {
      "cell_type": "markdown",
      "source": [
        "5. What is the value of spam[:2]?"
      ],
      "metadata": {
        "id": "aItF-NJfPUE2"
      }
    },
    {
      "cell_type": "code",
      "source": [
        "spam[:2] #from 0 index to 2ecluding second index"
      ],
      "metadata": {
        "colab": {
          "base_uri": "https://localhost:8080/"
        },
        "id": "d76RwdO1PV_C",
        "outputId": "2e3867a4-01c2-41e2-832e-bac99e9c7b2e"
      },
      "execution_count": 3,
      "outputs": [
        {
          "output_type": "execute_result",
          "data": {
            "text/plain": [
              "['a', 'b']"
            ]
          },
          "metadata": {},
          "execution_count": 3
        }
      ]
    },
    {
      "cell_type": "markdown",
      "source": [
        "Let's pretend bacon has the list [3.14, &#39;cat,&#39; 11, &#39;cat,&#39; True] for the next three questions.\n",
        "6. What is the value of bacon.index('cat')?"
      ],
      "metadata": {
        "id": "u5o621GbPefW"
      }
    },
    {
      "cell_type": "code",
      "source": [
        "bacon = [3.14, 'cat', 11, 'cat', True]\n",
        "bacon.index('cat') # it returns the index of first occurrence of 'cat'"
      ],
      "metadata": {
        "colab": {
          "base_uri": "https://localhost:8080/"
        },
        "id": "ADumLV7gPvRx",
        "outputId": "16ec6b66-739f-43d4-e9ac-589fe19771ef"
      },
      "execution_count": 4,
      "outputs": [
        {
          "output_type": "execute_result",
          "data": {
            "text/plain": [
              "1"
            ]
          },
          "metadata": {},
          "execution_count": 4
        }
      ]
    },
    {
      "cell_type": "markdown",
      "source": [
        "7. How does bacon.append(99) change the look of the list value in bacon?"
      ],
      "metadata": {
        "id": "ew5DkD7-P3ZK"
      }
    },
    {
      "cell_type": "code",
      "source": [
        "bacon.append(99) # append adds the item at the end of the list\n",
        "bacon"
      ],
      "metadata": {
        "colab": {
          "base_uri": "https://localhost:8080/"
        },
        "id": "gcJCYgYnP-B-",
        "outputId": "08fde0bd-3eeb-4781-d996-21f612a806ce"
      },
      "execution_count": 6,
      "outputs": [
        {
          "output_type": "execute_result",
          "data": {
            "text/plain": [
              "[3.14, 'cat', 11, 'cat', True, 99, 99]"
            ]
          },
          "metadata": {},
          "execution_count": 6
        }
      ]
    },
    {
      "cell_type": "markdown",
      "source": [
        "8. How does bacon.remove(&#39;cat&#39;) change the look of the list in bacon?"
      ],
      "metadata": {
        "id": "KikxNYIFQM1v"
      }
    },
    {
      "cell_type": "code",
      "source": [
        "bacon.remove('cat') # remove first occurrence of item\n",
        "bacon"
      ],
      "metadata": {
        "colab": {
          "base_uri": "https://localhost:8080/"
        },
        "id": "8XDMScJWQQvX",
        "outputId": "1ec55365-1b0a-41eb-a39b-bb0eb40136cf"
      },
      "execution_count": 7,
      "outputs": [
        {
          "output_type": "execute_result",
          "data": {
            "text/plain": [
              "[3.14, 11, 'cat', True, 99, 99]"
            ]
          },
          "metadata": {},
          "execution_count": 7
        }
      ]
    },
    {
      "cell_type": "markdown",
      "source": [
        "9. What are the list concatenation and list replication operators?\n",
        "-> ( + ) is list concatination operator and ( * ) is list replication operator."
      ],
      "metadata": {
        "id": "A3MvZC0nQV54"
      }
    },
    {
      "cell_type": "markdown",
      "source": [
        "10. What is difference between the list methods append() and insert()?\n",
        "-> append() appends object to the end of the list and insert() inserts object before index."
      ],
      "metadata": {
        "id": "SZe4oO7SQjfu"
      }
    },
    {
      "cell_type": "markdown",
      "source": [
        "11. What are the two methods for removing items from a list?\n",
        "-> remove(item) and pop() are the two methods for removing items from a list."
      ],
      "metadata": {
        "id": "G6x6S1MSQ2H3"
      }
    },
    {
      "cell_type": "markdown",
      "source": [
        "12. Describe how list values and string values are identical.\n",
        "-> The similarity between lists and strings in Python is that both are sequences. They can be used in for loops. They can be concatenated or replicated. Both can be used with the in and not in operators. Both can be passed to len() and have indexes and slices."
      ],
      "metadata": {
        "id": "ofsku2cvRHob"
      }
    },
    {
      "cell_type": "markdown",
      "source": [],
      "metadata": {
        "id": "gugvu9etR1e2"
      }
    },
    {
      "cell_type": "markdown",
      "source": [
        "13. What's the difference between tuples and lists?\n",
        "-> Lists : are mutable - they can have values added, removed, or changed. lists use the square brackets. []\n",
        "Tuples : are immutable; they cannot be changed at all. Tuples are written using parentheses. ()"
      ],
      "metadata": {
        "id": "xnaqGUDKR-Pd"
      }
    },
    {
      "cell_type": "markdown",
      "source": [
        "14. How do you type a tuple value that only contains the integer 42?"
      ],
      "metadata": {
        "id": "A9kW0FL0S2hE"
      }
    },
    {
      "cell_type": "code",
      "source": [
        "tuple = (42)\n",
        "tuple"
      ],
      "metadata": {
        "colab": {
          "base_uri": "https://localhost:8080/"
        },
        "id": "kATG3dgdTFhQ",
        "outputId": "5e04eb2e-5221-44a4-8f1c-1c95142dd3f7"
      },
      "execution_count": 8,
      "outputs": [
        {
          "output_type": "execute_result",
          "data": {
            "text/plain": [
              "42"
            ]
          },
          "metadata": {},
          "execution_count": 8
        }
      ]
    },
    {
      "cell_type": "code",
      "source": [
        "15. How do you get a list value's tuple form? How do you get a tuple value's list form?\n",
        "-> By using the functions tuple() and list()."
      ],
      "metadata": {
        "id": "bj4X3VHFTJrm"
      },
      "execution_count": null,
      "outputs": []
    },
    {
      "cell_type": "markdown",
      "source": [
        "16. Variables that \"contain\" list values are not necessarily lists themselves. Instead, what do they\n",
        "contain?\n",
        "-> They contain references to the list values."
      ],
      "metadata": {
        "id": "pav2GdJ1Tam2"
      }
    },
    {
      "cell_type": "markdown",
      "source": [
        "17. How do you distinguish between copy.copy() and copy.deepcopy()?\n",
        "-> The copy.copy() function will do a shallow copy of a list.\n",
        "The copy.deepcopy() function will do a deep copy of a list. Only copy.deepcopy() will duplicate any lists inside the list."
      ],
      "metadata": {
        "id": "NHqRg2UTTp7c"
      }
    },
    {
      "cell_type": "markdown",
      "source": [],
      "metadata": {
        "id": "Z2Z3z-KhTnue"
      }
    },
    {
      "cell_type": "markdown",
      "source": [],
      "metadata": {
        "id": "6CfID-ktN3wK"
      }
    }
  ]
}