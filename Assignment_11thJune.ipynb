{
  "nbformat": 4,
  "nbformat_minor": 0,
  "metadata": {
    "colab": {
      "provenance": []
    },
    "kernelspec": {
      "name": "python3",
      "display_name": "Python 3"
    },
    "language_info": {
      "name": "python"
    }
  },
  "cells": [
    {
      "cell_type": "markdown",
      "source": [
        "1. What is a lambda function in Python, and how does it differ from a regular function?\n",
        "-> A lambda function is an anonymous function (i.e., defined without a name) that can take any number of arguments but, unlike normal functions, evaluates and returns only one expression.\n",
        "Unlike a normal function, we don't surround the parameters of a lambda function with parentheses. Lambdas are little, anonymous functions, subject to a more restrictive but more concise syntax than regular Python functions."
      ],
      "metadata": {
        "id": "99KUkVRkL6ph"
      }
    },
    {
      "cell_type": "markdown",
      "source": [
        "2. Can a lambda function in Python have multiple arguments? If yes, how can you define and use\n",
        "them?\n",
        "-> A lambda function can take any number of arguments, but can only have one expression.\n",
        "Syntax of lambda:\n",
        "lambda argument, [argument, argument]: expression\n",
        "Example:\n",
        "numbers1 = [2, 4, 5, 6, 3]\n",
        "numbers2 = [1, 3, 2, 2, 4]\n",
        "add_fun = lambda x, y: x+y\n",
        "add_result = list(map(add_fun, numbers1, numbers2))\n",
        "print(add_result)\n"
      ],
      "metadata": {
        "id": "wuHRipDGMgyM"
      }
    },
    {
      "cell_type": "markdown",
      "source": [
        "3. How are lambda functions typically used in Python? Provide an example use case.\n",
        "-> Lambda functions are efficient whenever we want to create a function that will only contain simple expressions that is, expressions that are usually a single line of a statement. They're also useful when we want to use the function once.\n",
        "If we want to call a lambda function, we will use an approach known as immediately invoking the function. That looks like this:\n",
        "Example:\n",
        "(lambda x : x * 2)(3)\n",
        "The reason for this is that since the lambda function does not have a name we can invoke (it's anonymous), we need to enclose the entire statement when we want to call it."
      ],
      "metadata": {
        "id": "H9S2rLonNrki"
      }
    },
    {
      "cell_type": "markdown",
      "source": [
        "4. What are the advantages and limitations of lambda functions compared to regular functions in\n",
        "Python?\n",
        "-> They can be immediately passed around (no variable needed)\n",
        "They can only have a single line of code within them\n",
        "They return automatically\n",
        "They can't have a docstring and they don't have a name\n",
        "They use a different and unfamiliar syntax"
      ],
      "metadata": {
        "id": "Rkc2skYTQkH7"
      }
    },
    {
      "cell_type": "markdown",
      "source": [
        "5. Are lambda functions in Python able to access variables defined outside of their own scope?\n",
        "Explain with an example.\n",
        "-> A lambda expression introduces a new local scope for the function it creates. Lambdas can see all the variables that live in the functions where they are coded.\n",
        "Example:\n",
        "def func():\n",
        "    x = 4\n",
        "    action = (lambda n: x ** n)   \n",
        "    return action\n",
        "x = func()\n",
        "print(x(2))    "
      ],
      "metadata": {
        "id": "3keo2q62SIwd"
      }
    },
    {
      "cell_type": "markdown",
      "source": [
        "6. Write a lambda function to calculate the square of a given number.\n",
        "-> square = lambda x: x ** 2\n",
        "print(square(3))"
      ],
      "metadata": {
        "id": "GFDw3MHRTrtl"
      }
    },
    {
      "cell_type": "markdown",
      "source": [
        "7. Create a lambda function to find the maximum value in a list of integers.\n",
        "-> f = lambda l: l[0] if len(l) == 1 else l[0] if l[0] > f(l[1:]) else f(l[1:])\n",
        "list = [19, 7, 17, 97, 5]\n",
        "maximum = f(list)\n",
        "print(maximum)\n"
      ],
      "metadata": {
        "id": "KpF4xmtETSjq"
      }
    },
    {
      "cell_type": "markdown",
      "source": [
        "8. Implement a lambda function to filter out all the even numbers from a list of integers.\n",
        "-> nums = [1, 2, 3, 4, 5, 6, 7, 8, 9, 10]\n",
        "even_nums = list(filter(lambda x: x%2 == 0, nums))\n",
        "print(even_nums)"
      ],
      "metadata": {
        "id": "i3Dfm1IQUTcj"
      }
    },
    {
      "cell_type": "markdown",
      "source": [
        "9. Write a lambda function to sort a list of strings in ascending order based on the length of each\n",
        "string.\n",
        "-> myList = [\"rohan\", \"amy\", \"sapna\", \"muhammad\", \"aakash\", \"raunak\", \"chinmoy\"]\n",
        "\n",
        "sortedList = sorted(myList, key=lambda x: len(x))\n",
        "\n",
        "print(sortedList)\n"
      ],
      "metadata": {
        "id": "MH9yg2HSUvfQ"
      }
    },
    {
      "cell_type": "markdown",
      "source": [
        "10. Create a lambda function that takes two lists as input and returns a new list containing the\n",
        "common elements between the two lists.\n",
        "-> array_nums1 = [1, 2, 3, 5, 7, 8, 9, 10]\n",
        "array_nums2 = [1, 2, 4, 8, 9]\n",
        "print(\"Original arrays:\")\n",
        "print(array_nums1)\n",
        "print(array_nums2)\n",
        "result = list(filter(lambda x: x in array_nums1, array_nums2))\n",
        "print (\"\\nIntersection of the said arrays: \",result)"
      ],
      "metadata": {
        "id": "qjIxOsZLW3Oh"
      }
    },
    {
      "cell_type": "markdown",
      "source": [
        "11. Write a recursive function to calculate the factorial of a given positive integer.\n",
        "-> #include<stdio.h>\n",
        "long int multiplyNumbers(int n);\n",
        "int main() {\n",
        "    int n;\n",
        "    printf(\"Enter a positive integer: \");\n",
        "    scanf(\"%d\",&n);\n",
        "    printf(\"Factorial of %d = %ld\", n, multiplyNumbers(n));\n",
        "    return 0;\n",
        "}\n",
        "\n",
        "long int multiplyNumbers(int n) {\n",
        "    if (n>=1)\n",
        "        return n*multiplyNumbers(n-1);\n",
        "    else\n",
        "        return 1;\n",
        "}\n"
      ],
      "metadata": {
        "id": "M-TofaAgZdeJ"
      }
    },
    {
      "cell_type": "markdown",
      "source": [
        "12. Implement a recursive function to compute the nth Fibonacci number.\n",
        "-> #include<stdio.h>\n",
        "int fib(int); // Function declaration\n",
        "int main()\n",
        "{\n",
        "\tint n; // Declaration of variable\n",
        "\tscanf(\"%d\",&n);\n",
        "\tprintf(\"The %d term in the fibnoci series is: %d \",n,fib(n)); // Calling function\n",
        "}\n",
        "int fib(int n) // Function declaration\n",
        "{\n",
        "\tif(n==0)\n",
        "\t{\n",
        "\t\treturn 0;\n",
        "\t}\n",
        "\tif(n==1||n==2)\n",
        "\t{\n",
        "\t\treturn 1;\n",
        "\t}\n",
        "\treturn fib(n-1)+fib(n-2); // Recursive funnction\n",
        "}"
      ],
      "metadata": {
        "id": "4lqdU0seaAkm"
      }
    },
    {
      "cell_type": "markdown",
      "source": [
        "13. Create a recursive function to find the sum of all the elements in a given list.\n",
        "-> def sum_arr(arr,size):\n",
        "   if (size == 0):\n",
        "     return 0\n",
        "   else:\n",
        "     return arr[size-1] + sum_arr(arr,size-1)\n",
        "n=int(input(\"Enter the number of elements for list:\"))\n",
        "a=[]\n",
        "for i in range(0,n):\n",
        "    element=int(input(\"Enter element:\"))\n",
        "    a.append(element)\n",
        "print(\"The list is:\")\n",
        "print(a)\n",
        "print(\"Sum of items in list:\")\n",
        "b=sum_arr(a,n)\n",
        "print(b)"
      ],
      "metadata": {
        "id": "Exo6HFeGaYuQ"
      }
    },
    {
      "cell_type": "markdown",
      "source": [
        "14. Write a recursive function to determine whether a given string is a palindrome.\n",
        "-> def is_palindrome(s):\n",
        "    if len(s) < 1:\n",
        "        return True\n",
        "    else:\n",
        "        if s[0] == s[-1]:\n",
        "            return is_palindrome(s[1:-1])\n",
        "        else:\n",
        "            return False\n",
        "a=str(input(\"Enter string:\"))\n",
        "if(is_palindrome(a)==True):\n",
        "    print(\"String is a palindrome!\")\n",
        "else:\n",
        "    print(\"String isn't a palindrome!\")"
      ],
      "metadata": {
        "id": "C7lIbae5byiL"
      }
    },
    {
      "cell_type": "markdown",
      "source": [
        "15. Implement a recursive function to find the greatest common divisor (GCD) of two positive integers.\n",
        "-> num1 = 10\n",
        "num2 = 20\n",
        "GCD = call func(10,20)\n",
        "            num2 = 20 > 0\n",
        "            num1 % num2 = 10\n",
        "            call func(20,10)\n",
        "                  num2 = 10 > 0\n",
        "                  num1 % num2 = 0\n",
        "                  call func(10,0)\n",
        "                        num2 = 0 = 0\n",
        "                        return 10\n",
        "                  return 10\n",
        "            return 10"
      ],
      "metadata": {
        "id": "-Fy3zzWzcUCv"
      }
    }
  ]
}