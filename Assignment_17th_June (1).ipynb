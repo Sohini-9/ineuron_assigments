{
  "nbformat": 4,
  "nbformat_minor": 0,
  "metadata": {
    "colab": {
      "provenance": []
    },
    "kernelspec": {
      "name": "python3",
      "display_name": "Python 3"
    },
    "language_info": {
      "name": "python"
    }
  },
  "cells": [
    {
      "cell_type": "markdown",
      "source": [
        "1. What is the role of try and exception block?\n",
        "-> The try block lets us test a block of code for errors. The except block lets us handle the error."
      ],
      "metadata": {
        "id": "53GJ-7QPQ_MU"
      }
    },
    {
      "cell_type": "markdown",
      "source": [
        "2. What is the syntax for a basic try-except block?\n",
        "-> The following is the required syntax:\n",
        "try:\n",
        "    # code that may cause exception\n",
        "except:\n",
        "    # code to run when exception occurs"
      ],
      "metadata": {
        "id": "HuIJOjiFRTaH"
      }
    },
    {
      "cell_type": "markdown",
      "source": [
        "3. What happens if an exception occurs inside a try block and there is no matching\n",
        "except block?\n",
        "-> If an exception occurs which does not match the exception named in the except clause, it is passed on to outer try statements; if no handler is found, it is an unhandled exception and execution stops."
      ],
      "metadata": {
        "id": "W051U2MfTOOq"
      }
    },
    {
      "cell_type": "markdown",
      "source": [
        "4. What is the difference between using a bare except block and specifying a specific\n",
        "exception type?\n",
        "-> A bare except clause will catch SystemExit and KeyboardInterrupt exceptions, making it harder to interrupt a program with Control-C, and can disguise other problems.\n",
        "Specifying a specific exception type will help in identifying the exact exception type and make it simpler or else we can use except Exception (bare except is equivalent to except BaseException)."
      ],
      "metadata": {
        "id": "ryOxdiwqU0VG"
      }
    },
    {
      "cell_type": "markdown",
      "source": [
        "5. Can you have nested try-except blocks in Python? If yes, then give an example.\n",
        "-> We can have nested try-except blocks in Python. In this case, if an exception is raised in the nested try block, the nested except block is used to handle it. In case the nested except is not able to handle it, the outer except blocks are used to handle the exception.\n",
        "Example:\n",
        "x = 10\n",
        "y = 0\n",
        "\n",
        "try:\n",
        "    print(\"outer try block\")\n",
        "    try:\n",
        "        print(\"nested try block\")\n",
        "        print(x / y)\n",
        "    except TypeError as te:\n",
        "        print(\"nested except block\")\n",
        "        print(te)\n",
        "except ZeroDivisionError as ze:\n",
        "    print(\"outer except block\")\n",
        "    print(ze)"
      ],
      "metadata": {
        "id": "24K3vEhhV_BY"
      }
    },
    {
      "cell_type": "markdown",
      "source": [
        "6. Can we use multiple exception blocks, if yes then give an example.\n",
        "-> Using separate except blocks is another way to catch multiple exceptions in Python. This method allows to handle different exception types in different ways, making it ideal when we need to perform specific actions for each type of exception.\n",
        "\n",
        "Example:\n",
        "try:\n",
        "    a = 10\n",
        "    b= 0\n",
        "    c = \"abc\"\n",
        "    d =a+c\n",
        "except ZeroDivisionError:\n",
        "    print(\"Zero Division Error occurs\")\n",
        "except IndexError:\n",
        "    print(\"Index error occurs\")\n",
        "except TypeError:\n",
        "    print(\"Type error occurs\")"
      ],
      "metadata": {
        "id": "Hidj08vwXykm"
      }
    },
    {
      "cell_type": "markdown",
      "source": [
        "7. Write the reason due to which following errors are raised:\n",
        "a. EOFError\n",
        "b. FloatingPointError\n",
        "c. IndexError\n",
        "d. MemoryError\n",
        "e. OverflowError\n",
        "f. TabError\n",
        "g. ValueError\n",
        "-> a. EOFError:\n",
        "Raised when the input() function hits the end-of-file condition.\n",
        "b. FloatingPointError:\n",
        "Raised when a floating point operation fails.\n",
        "c. IndexError:\n",
        "Raised when the index of a sequence is out of range.\n",
        "d. MemoryError:\n",
        "Raised when an operation runs out of memory.\n",
        "e. OverflowError:\n",
        "Raised when the result of an arithmetic operation is too large to be represented.\n",
        "f. TabError:\n",
        "Raised when the indentation consists of inconsistent tabs and spaces.\n",
        "g. ValueError:\n",
        "Raised when a function gets an argument of correct type but improper value.\n"
      ],
      "metadata": {
        "id": "F0xY1ckOg5J-"
      }
    },
    {
      "cell_type": "markdown",
      "source": [
        "8. Write code for the following given scenario and add try-exception block to it.\n",
        "a. Program to divide two numbers\n",
        "b. Program to convert a string to an integer\n",
        "c. Program to access an element in a list\n",
        "d. Program to handle a specific exception\n",
        "e. Program to handle any exception\n",
        "-> a. Program to divide two numbers:\n",
        "try:\n",
        "    numerator = 10\n",
        "    denominator = 0\n",
        "\n",
        "    result = numerator/denominator\n",
        "\n",
        "    print(result)\n",
        "except:\n",
        "    print(\"Error: Denominator cannot be 0.\")\n",
        "except ZeroDivisionError:\n",
        "    print(\"Denominator cannot be 0.\")\n",
        "except IndexError:\n",
        "    print(\"Index Out of Bound.\")\n",
        "b. Program to convert a string to an integer:\n",
        "try:\n",
        "    strObj = \"123.45\"\n",
        "    result = int(strObj)\n",
        "except ValueError:\n",
        "    print(\"String is not an integer.\")\n",
        "c. Program to access an element in a list:\n",
        "list_1 = [12, 23, 34, 45, 56]\n",
        "list_2 = [0, 1, 2, 3, 4]\n",
        "def func(a, b):\n",
        "    try:\n",
        "        return a/b\n",
        "    except ZeroDivisionError:\n",
        "        print(\"Division by zero not allowed\")\n",
        "list_3 = [func(x, y) for x, y in zip(list_1, list_2)]\n",
        "print(list_3)    \n",
        "d. Program to handle a specific exception:\n",
        "-> try:\n",
        "  a=5\n",
        "  b='0'\n",
        "  print(a+b)\n",
        "except TypeError:\n",
        "  print('TypeError Occurred')\n",
        "except:\n",
        "  print('Some error occurred.')  \n",
        "print (\"Out of try except blocks\")\n",
        "e. Program to handle any exception:\n",
        "-> # Python program to handle simple runtime error\n",
        "a = [1, 2, 3]\n",
        "try:\n",
        "\tprint (\"Second element = %d\" %(a[1]))\n",
        "\tprint (\"Fourth element = %d\" %(a[3]))\n",
        "except:\n",
        "\tprint (\"Error occurred\")\n"
      ],
      "metadata": {
        "id": "fYbpaUqzjFWt"
      }
    }
  ]
}