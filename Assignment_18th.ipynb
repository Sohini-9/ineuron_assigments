{
  "nbformat": 4,
  "nbformat_minor": 0,
  "metadata": {
    "colab": {
      "provenance": []
    },
    "kernelspec": {
      "name": "python3",
      "display_name": "Python 3"
    },
    "language_info": {
      "name": "python"
    }
  },
  "cells": [
    {
      "cell_type": "markdown",
      "source": [
        "1. What is the role of the 'else' block in a try-except statement? Provide an example\n",
        "scenario where it would be useful.\n",
        "-> The else block in a try-except statement is an optional block of code that is executed if no exceptions are raised in the try block. This means that if no exceptions occur, the code in the else block is executed.\n",
        "The else block is useful for performing actions that should only occur if no exceptions have been raised, such as printing a success message or updating a database.\n",
        "Example:\n",
        "try:\n",
        "    result = x / y\n",
        "except ZeroDivisionError:\n",
        "    print(\"Error: Cannot divide by zero\")\n",
        "else:\n",
        "    print(f\"Result={result}\")\n"
      ],
      "metadata": {
        "id": "JDqv3jUV9fH7"
      }
    },
    {
      "cell_type": "markdown",
      "source": [
        "2. Can a try-except block be nested inside another try-except block? Explain with an\n",
        "example.\n",
        "-> We can have nested try-except blocks in Python. In this case, if an exception is raised in the nested try block, the nested except block is used to handle it. In case the nested except is not able to handle it, the outer except blocks are used to handle the exception.\n",
        "Example:\n",
        "x = 10\n",
        "y = 0\n",
        "\n",
        "try:\n",
        "    print(\"outer try block\")\n",
        "    try:\n",
        "        print(\"nested try block\")\n",
        "        print(x / y)\n",
        "    except TypeError as te:\n",
        "        print(\"nested except block\")\n",
        "        print(te)\n",
        "except ZeroDivisionError as ze:\n",
        "    print(\"outer except block\")\n",
        "    print(ze)"
      ],
      "metadata": {
        "id": "QkX0_Shz95rx"
      }
    },
    {
      "cell_type": "markdown",
      "source": [
        "3. How can you create a custom exception class in Python? Provide an example that\n",
        "demonstrates its usage.\n",
        "-> In Python, we can define custom exceptions by creating a new class that is derived from the built-in Exception class.\n",
        "Example:\n",
        "class InvalidAgeException(Exception):\n",
        "    \"Raised when the input value is less than 18\"\n",
        "    pass\n",
        "\n",
        "number = 18\n",
        "\n",
        "try:\n",
        "    input_num = int(input(\"Enter a number: \"))\n",
        "    if input_num < number:\n",
        "        raise InvalidAgeException\n",
        "    else:\n",
        "        print(\"Eligible to Vote\")\n",
        "        \n",
        "except InvalidAgeException:\n",
        "    print(\"Exception occurred: Invalid Age\")"
      ],
      "metadata": {
        "id": "OBzsLy04BhMi"
      }
    },
    {
      "cell_type": "markdown",
      "source": [
        "4. What are some common exceptions that are built-in to Python?\n",
        "-> Some common exceptions that are built-in to Python:\n",
        "BaseException,BaseException,BaseException,TypeError,ValueError,KeyError,IndexError,FileNotFoundError,ImportError,ArithmeticError,OverflowError,SyntaxError,AssertionError,FloatingPointError,EOFError"
      ],
      "metadata": {
        "id": "XAk5Uu0uCjOD"
      }
    },
    {
      "cell_type": "markdown",
      "source": [
        "5. What is logging in Python, and why is it important in software development?\n",
        "-> Logging is a way to store information about your script and track events that occur. When writing any complex script in Python, logging is essential for debugging software as you develop it. Without logging, finding the source of a problem in your code may be extremely time consuming.\n",
        "Developers use logs to perform several crucial tasks like debugging, load testing, and performance testing. They almost always capture log errors and fatal exceptions (because those are usually the most important) and then export them to external services like Mezmo, formerly known as LogDNA, for further processing."
      ],
      "metadata": {
        "id": "AzzfF0ayxbaA"
      }
    },
    {
      "cell_type": "markdown",
      "source": [
        "6. Explain the purpose of log levels in Python logging and provide examples of when\n",
        "each log level would be appropriate.\n",
        "-> Logging is a means of tracking events that happen when some software runs. The software developer adds logging calls to their code to indicate that certain events have occurred.\n",
        "\n",
        "Example:"
      ],
      "metadata": {
        "id": "v1S31sQizCuL"
      }
    },
    {
      "cell_type": "code",
      "source": [
        "import logging\n",
        "logging.basicConfig(format='%(asctime)s %(levelname)s:%(name)s:%(message)s')\n",
        "logging.warning('Python logging!')"
      ],
      "metadata": {
        "colab": {
          "base_uri": "https://localhost:8080/"
        },
        "id": "6ZmdwpXpnbjX",
        "outputId": "0d3dc03c-7d16-451e-c12f-4df0deac6ce4"
      },
      "execution_count": null,
      "outputs": [
        {
          "output_type": "stream",
          "name": "stderr",
          "text": [
            "WARNING:root:Python logging!\n"
          ]
        }
      ]
    },
    {
      "cell_type": "markdown",
      "source": [
        "7. What are log formatters in Python logging, and how can you customise the log\n",
        "message format using formatters?\n",
        "-> A formatter is created and added to the handler to transform log messages into placeholder data. In this formatter, the time of the log request (as an epoch timestamp), the logging level, the logger’s name, the module name, and the log message will all print.\n",
        "exampleFormatter = logging.Formatter('%(asctime)s - %(name)s - %(levelname)s - %(message)s')\n",
        "\n",
        "Consider the code above. The formatter function is using the the basic elements of LogRecord object where,\n",
        "\n",
        "-> %(asctime)s attribute represents the time the log message was generated\n",
        "-> %(name)s attribute represents the name of the logger object\n",
        "-> %(levelname)s attribute represents the severity level of the log message\n",
        "-> %(message)s attribute represents the log message.\n",
        "By using the available LogRecord attributes, you can enhance the information in the log message. If you don’t format your log messages using the formatter function, the default output will only include the data represented by %(message)s attribute."
      ],
      "metadata": {
        "id": "hg8b6TjQnvTa"
      }
    },
    {
      "cell_type": "markdown",
      "source": [
        "8. How can you set up logging to capture log messages from multiple modules or\n",
        "classes in a Python application?\n",
        "-> We can configure logging using the module and class functions or by creating a config file or a dictionary and loading it using fileConfig() or dictConfig() respectively. These are useful in case you want to change your logging configuration in a running application."
      ],
      "metadata": {
        "id": "XnBPDqZsVojC"
      }
    },
    {
      "cell_type": "markdown",
      "source": [
        "9. What is the difference between the logging and print statements in Python? When\n",
        "should you use logging over print statements in a real-world application?\n",
        "-> Logging in Python\n",
        "   =================\n",
        "=> Record events and errors that occur during the execution of Python programs.\n",
        "=> Mainly used in the production environment.\n",
        "=> Some features are: Log levels, filtering, formatting, and more.\n",
        "=> It provides different log levels such as Debug, Info, Error, Warning, and Critical.\n",
        "=> Example:\n",
        "\n",
        "import logging;\n",
        "logging.basicConfig(level=logging.INFO);\n",
        "logging.info(“Hello”)\n",
        "\n",
        "Output:\n",
        "\n",
        "Can be configured to log to different output destinations (e.g. console, file, network)\n",
        "\n",
        "-> Print in Python\n",
        "   ===============\n",
        "=> Displays the information to the console for the debugging purposes.\n",
        "=> Mainly for debugging.\n",
        "=> There are no good features.\n",
        "=> It does not have any levels, it simply prints whatever is passed to it.\n",
        "=> Example:\n",
        "\n",
        "print(“Hello”)\n",
        "\n",
        "Output:\n",
        "\n",
        "Prints only on the console"
      ],
      "metadata": {
        "id": "BWNsHUpwW0PO"
      }
    },
    {
      "cell_type": "markdown",
      "source": [
        "10. Write a Python program that logs a message to a file named \"app.log\" with the\n",
        "following requirements:\n",
        "● The log message should be \"Hello, World!\"\n",
        "● The log level should be set to \"INFO.\"\n",
        "● The log file should append new log entries without overwriting previous ones.\n",
        "-> import logging\n",
        "logging.info('Hello, World!')"
      ],
      "metadata": {
        "id": "bCaR6GfOZU1u"
      }
    },
    {
      "cell_type": "markdown",
      "source": [
        "11. Create a Python program that logs an error message to the console and a file named\n",
        "\"errors.log\" if an exception occurs during the program's execution. The error\n",
        "message should include the exception type and a timestamp.\n",
        "-> import logging\n",
        "\n",
        "logging.basicConfig(filename = 'errors.log',\n",
        "                    level = logging.DEBUG,\n",
        "                    format = '%(asctime)s:%(levelname)s:%(name)s:%(message)s')\n",
        "logging.error('Error message')\n",
        "logging.critical('Critical message')"
      ],
      "metadata": {
        "id": "zAveAmvyOQdc"
      }
    }
  ]
}