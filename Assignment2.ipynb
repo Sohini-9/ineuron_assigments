{
  "nbformat": 4,
  "nbformat_minor": 0,
  "metadata": {
    "colab": {
      "provenance": []
    },
    "kernelspec": {
      "name": "python3",
      "display_name": "Python 3"
    },
    "language_info": {
      "name": "python"
    }
  },
  "cells": [
    {
      "cell_type": "code",
      "execution_count": 1,
      "metadata": {
        "colab": {
          "base_uri": "https://localhost:8080/"
        },
        "id": "alhKvknYsQID",
        "outputId": "97eb79f0-0e02-446c-e4f0-59767c2cc5ea"
      },
      "outputs": [
        {
          "output_type": "execute_result",
          "data": {
            "text/plain": [
              "False"
            ]
          },
          "metadata": {},
          "execution_count": 1
        }
      ],
      "source": [
        "(5>4) and (3 == 5)"
      ]
    },
    {
      "cell_type": "markdown",
      "source": [
        "1.What are the two values of the Boolean data type? How do you write them?\n",
        "\n",
        "-> The two values of the Boolean data types are true and false.\n",
        "  We write them like the following:\n",
        "a = True\n",
        "b = False\n",
        "Here a and b are the bollean variables."
      ],
      "metadata": {
        "id": "gsWQuKkUssJR"
      }
    },
    {
      "cell_type": "markdown",
      "source": [
        "2. What are the three different types of Boolean operators?\n",
        "-> and , or , and not are the three different types of Boolean operators."
      ],
      "metadata": {
        "id": "iRImqIamunJM"
      }
    },
    {
      "cell_type": "markdown",
      "source": [
        "3. Make a list of each Boolean operator's truth tables (i.e. every possible combination of Boolean\n",
        "values for the operator and what it evaluate ).\n",
        "-> True and True is True.\n",
        "True and False is False.\n",
        "False and True is False.\n",
        "False and False is False.\n",
        "True or True is True.\n",
        "True or False is True.\n",
        "False or True is True.\n",
        "False or False is False.\n",
        "not True is False.\n",
        "not False is True.\n",
        "Truth Table for AND\n",
        "A B output\n",
        "0 0 0\n",
        "0 1 0\n",
        "1 0 0\n",
        "1 1 1\n",
        "Truth Table for OR\n",
        "A B output\n",
        "0 0 0\n",
        "0 1 1\n",
        "1 0 1\n",
        "1 1 1\n",
        "Truth Table for NOT\n",
        "A output\n",
        "0 1\n",
        "1 0\n",
        "True is 1 and False is 0"
      ],
      "metadata": {
        "id": "idY1tEWBvX9T"
      }
    },
    {
      "cell_type": "markdown",
      "source": [
        "4. What are the values of the following expressions?\n",
        "\n",
        "\n",
        "(5>4) and (3 == 5)  ->False\n",
        "not (5>4)    ->False\n",
        "(5>4) or (3 == 5)  ->True\n",
        "not ((5>4) or (3 == 5))   ->False\n",
        "(True and True) and (True == False) ->False\n",
        "(not False) or (not True)   ->True"
      ],
      "metadata": {
        "id": "AfmMHd7NwcfX"
      }
    },
    {
      "cell_type": "code",
      "source": [
        "print((5>4) and (3 == 5))\n",
        "print(not (5>4))\n",
        "print((5>4) or (3 == 5))\n",
        "print(not ((5>4) or (3 == 5)))\n",
        "print((True and True) and (True == False))\n",
        "print((not False) or (not True))"
      ],
      "metadata": {
        "colab": {
          "base_uri": "https://localhost:8080/"
        },
        "id": "6ct2PNIixHfB",
        "outputId": "b3767e62-1b67-438e-e8e8-7acf3fc8d99f"
      },
      "execution_count": 3,
      "outputs": [
        {
          "output_type": "stream",
          "name": "stdout",
          "text": [
            "False\n",
            "False\n",
            "True\n",
            "False\n",
            "False\n",
            "True\n"
          ]
        }
      ]
    },
    {
      "cell_type": "markdown",
      "source": [
        "5. What are the six comparison operators?\n",
        "\n",
        "-> ==, !=, <, >, <=, and >= are the six comparison operators."
      ],
      "metadata": {
        "id": "ymX1muogxb1H"
      }
    },
    {
      "cell_type": "markdown",
      "source": [
        "6. How do you tell the difference between the equal to and assignment operators?Describe a\n",
        "condition and when you would use one.\n",
        "\n",
        "-> = is an Assignment Operator which is used to assign the value of variable or expression, while == is an Equal to Operator and it is a relation operator used for comparison (to compare value of both left and right side operands).\n"
      ],
      "metadata": {
        "id": "y7Ey0OAnxox1"
      }
    },
    {
      "cell_type": "code",
      "source": [
        "#Eg.,\n",
        "\n",
        "int x,y;\n",
        "x=10; #assignment\n",
        "y=10; #assignment\n",
        " \n",
        "if(x==y)  #equal to for comparing them \n",
        "    printf(\"True\");\n",
        "else\n",
        "    printf(\"False\");\n",
        "\n"
      ],
      "metadata": {
        "id": "YwoMkWfp32cE"
      },
      "execution_count": null,
      "outputs": []
    },
    {
      "cell_type": "markdown",
      "source": [
        "7. Identify the three blocks in this code:\n"
      ],
      "metadata": {
        "id": "sfVoiS9h3-xK"
      }
    },
    {
      "cell_type": "code",
      "source": [
        "spam = 0\n",
        "if spam == 10:\n",
        "  print('eggs')  #block1\n",
        "if spam > 5:\n",
        "  print(bacon)   #block2\n",
        "else:\n",
        "  print(ham)     #block3\n",
        "  print(spam)\n",
        "  print(spam)"
      ],
      "metadata": {
        "id": "JcrFvpJR6ten"
      },
      "execution_count": 5,
      "outputs": []
    },
    {
      "cell_type": "markdown",
      "source": [
        "8. Write code that prints Hello if 1 is stored in spam, prints Howdy if 2 is stored in spam, and prints\n",
        "Greetings! if anything else is stored in spam."
      ],
      "metadata": {
        "id": "jbYGttkE6vLs"
      }
    },
    {
      "cell_type": "code",
      "source": [
        "spam = int(input(\"Input any number\"))\n",
        "if spam == 1:\n",
        "    print(\"Hello\")\n",
        "elif spam == 2:\n",
        "    print(\"Howdy\")\n",
        "else:\n",
        "    print(\"Greetings!\")"
      ],
      "metadata": {
        "id": "IrSaUrgc7Jhi"
      },
      "execution_count": null,
      "outputs": []
    },
    {
      "cell_type": "markdown",
      "source": [
        "9.If your programme is stuck in an endless loop, what keys you’ll press?\n",
        "\n",
        "-> ctrl+c is the key that we will press if our programme is stuck in an endless loop."
      ],
      "metadata": {
        "id": "qaitFNNM7VB9"
      }
    },
    {
      "cell_type": "markdown",
      "source": [
        "10. How can you tell the difference between break and continue?\n",
        "-> A break statement in Python alters the flow of a loop by terminating it once a specified condition is met.\n",
        "The continue statement in Python is used to skip the remaining code inside a loop for the current iteration only."
      ],
      "metadata": {
        "id": "Ed_pU_qD74Rg"
      }
    },
    {
      "cell_type": "markdown",
      "source": [
        "11. In a for loop, what is the difference between range(10), range(0, 10), and range(0, 10, 1)?\n",
        "-> They all do the same thing. The range(10) call ranges from 0 up to (but not including) 10, range(0, 10) tells the loop to start at 0, and range(0, 10, 1) tells the loop to increase the variable by 1 on each iteration."
      ],
      "metadata": {
        "id": "JyiZK3qM-LU2"
      }
    },
    {
      "cell_type": "code",
      "source": [
        "for i in range(10):\n",
        "    print(i)\n",
        "print(\"=======\") \n",
        "for i in range(0,10):\n",
        "    print(i)\n",
        "print(\"=======\")\n",
        "for i in range(0,10,1):\n",
        "    print(i)"
      ],
      "metadata": {
        "colab": {
          "base_uri": "https://localhost:8080/"
        },
        "id": "JaPiRC3Q-v2b",
        "outputId": "2101836d-9020-42fd-c18c-1d27e8950e39"
      },
      "execution_count": 6,
      "outputs": [
        {
          "output_type": "stream",
          "name": "stdout",
          "text": [
            "0\n",
            "1\n",
            "2\n",
            "3\n",
            "4\n",
            "5\n",
            "6\n",
            "7\n",
            "8\n",
            "9\n",
            "=======\n",
            "0\n",
            "1\n",
            "2\n",
            "3\n",
            "4\n",
            "5\n",
            "6\n",
            "7\n",
            "8\n",
            "9\n",
            "=======\n",
            "0\n",
            "1\n",
            "2\n",
            "3\n",
            "4\n",
            "5\n",
            "6\n",
            "7\n",
            "8\n",
            "9\n"
          ]
        }
      ]
    },
    {
      "cell_type": "markdown",
      "source": [
        "12. Write a short program that prints the numbers 1 to 10 using a for loop. Then write an equivalent\n",
        "program that prints the numbers 1 to 10 using a while loop."
      ],
      "metadata": {
        "id": "_FDWYnNJ_Tfs"
      }
    },
    {
      "cell_type": "code",
      "source": [
        "#For Loop\n",
        "for i in range(1,11):\n",
        "    print(i)\n",
        "#While Loop\n",
        "a =1\n",
        "while a <= 10:\n",
        "    print(a)\n",
        "    a+=1"
      ],
      "metadata": {
        "colab": {
          "base_uri": "https://localhost:8080/"
        },
        "id": "JlK9yVqA_tXd",
        "outputId": "ba489eec-2d76-4a40-91af-56bbb6444968"
      },
      "execution_count": 7,
      "outputs": [
        {
          "output_type": "stream",
          "name": "stdout",
          "text": [
            "1\n",
            "2\n",
            "3\n",
            "4\n",
            "5\n",
            "6\n",
            "7\n",
            "8\n",
            "9\n",
            "10\n",
            "1\n",
            "2\n",
            "3\n",
            "4\n",
            "5\n",
            "6\n",
            "7\n",
            "8\n",
            "9\n",
            "10\n"
          ]
        }
      ]
    },
    {
      "cell_type": "markdown",
      "source": [
        "13. If you had a function named bacon() inside a module named spam, how would you call it after\n",
        "importing spam?\n",
        "-> spam.bacon() will be used."
      ],
      "metadata": {
        "id": "5ziOiHSm_4c0"
      }
    }
  ]
}