{
  "nbformat": 4,
  "nbformat_minor": 0,
  "metadata": {
    "colab": {
      "provenance": []
    },
    "kernelspec": {
      "name": "python3",
      "display_name": "Python 3"
    },
    "language_info": {
      "name": "python"
    }
  },
  "cells": [
    {
      "cell_type": "code",
      "execution_count": null,
      "metadata": {
        "id": "DjJNFDXNlhYs"
      },
      "outputs": [],
      "source": []
    },
    {
      "cell_type": "markdown",
      "source": [
        "Q.1. What are keywords in python? Using the keyword library, print all the python keywords.\n",
        "\n",
        "-> Keywords in Python are reserved words that cannot be used as ordinary identifiers. They are used to define the syntax and structure of the Python language."
      ],
      "metadata": {
        "id": "brUmer8nnSng"
      }
    },
    {
      "cell_type": "code",
      "source": [
        "import keyword\n",
        "# display all keywords\n",
        "print(keyword.kwlist)"
      ],
      "metadata": {
        "colab": {
          "base_uri": "https://localhost:8080/"
        },
        "id": "_BlfchmJneBi",
        "outputId": "83a301a3-7a70-480d-8ada-1c1665a25d03"
      },
      "execution_count": 1,
      "outputs": [
        {
          "output_type": "stream",
          "name": "stdout",
          "text": [
            "['False', 'None', 'True', 'and', 'as', 'assert', 'async', 'await', 'break', 'class', 'continue', 'def', 'del', 'elif', 'else', 'except', 'finally', 'for', 'from', 'global', 'if', 'import', 'in', 'is', 'lambda', 'nonlocal', 'not', 'or', 'pass', 'raise', 'return', 'try', 'while', 'with', 'yield']\n"
          ]
        }
      ]
    },
    {
      "cell_type": "markdown",
      "source": [
        "Q.2. What are the rules to create variables in python?\n",
        "\n",
        "-> A variable name must start with a letter or the underscore character.\n",
        "It cannot start with a number.\n",
        "A variable name can only contain alpha-numeric characters and underscores (A-z, 0-9, and _ ).\n",
        "Variable names are case-sensitive (age, Age and AGE are three different variables)."
      ],
      "metadata": {
        "id": "PDEToIdfnktv"
      }
    },
    {
      "cell_type": "markdown",
      "source": [
        "Q.3. What are the standards and conventions followed for the nomenclature of variables in\n",
        "python to improve code readability and maintainability?\n",
        "\n",
        "-> The variable names in Python can be any length and can consist of uppercase and lowercase letters (A-Z, a-z), digits (0-9), and the underscore character (_). An additional restriction is that, although a variable name can contain digits, the first character of a variable name can’t be a digit."
      ],
      "metadata": {
        "id": "3UVG24dQoSKg"
      }
    },
    {
      "cell_type": "markdown",
      "source": [
        "Q.4. What will happen if a keyword is used as a variable name?\n",
        "\n",
        "-> Keywords define the language's syntax rules and structure, and they cannot be used as variable names. "
      ],
      "metadata": {
        "id": "T8pu5GWsoqW1"
      }
    },
    {
      "cell_type": "markdown",
      "source": [
        "Q.5. For what purpose def keyword is used?\n",
        "\n",
        "-> def keyword is used for defining the functions."
      ],
      "metadata": {
        "id": "8I3moJdIo_dv"
      }
    },
    {
      "cell_type": "markdown",
      "source": [
        "Q.6. What is the operation of this special character ‘\\’?\n",
        "\n",
        "-> It is a line continuation character."
      ],
      "metadata": {
        "id": "oXDkxl6PpG3q"
      }
    },
    {
      "cell_type": "markdown",
      "source": [
        "Q.7. Give an example of the following conditions:\n",
        "(i) Homogeneous list\n",
        "(ii) Heterogeneous set\n",
        "(iii) Homogeneous tuple"
      ],
      "metadata": {
        "id": "1ZLrfx3upZnH"
      }
    },
    {
      "cell_type": "code",
      "source": [
        "l1=  [1, 2, 3, 8, 33] #Homogeneous list\n",
        "l2=  {\"red\", 2, \"blue\"} #Heterogeneous set\n",
        "l3=(1,2,3)  #Homogeneous tuple"
      ],
      "metadata": {
        "id": "E8wn2N_mqKON"
      },
      "execution_count": 2,
      "outputs": []
    },
    {
      "cell_type": "markdown",
      "source": [
        "Q.8. Explain the mutable and immutable data types with proper explanation & examples.\n",
        "\n",
        "-> Anything is said to be mutable when anything can be modified or changed. The term \"mutable\" in Python refers to an object's capacity to modify its values. These are frequently the things that hold a data collection.\n",
        "Immutable refers to a state in which no change can occur over time. A Python object is referred to as immutable if we cannot change its value over time. The value of these Python objects is fixed once they are made.\n",
        "Python mutable data types:\n",
        "Lists\n",
        "Dictionaries\n",
        "Sets\n",
        "User-Defined Classes (It depends on the user to define the characteristics of the classes)\n",
        "Python immutable data types:\n",
        "Numbers (Integer, Float, Complex, Decimal, Rational & Booleans)\n",
        "Tuples\n",
        "Strings\n",
        "Frozen Sets\n"
      ],
      "metadata": {
        "id": "CF0BeF2Qq_mp"
      }
    },
    {
      "cell_type": "code",
      "source": [
        "cities = [‘Delhi’, ‘Mumbai’, ‘Kolkata’]\n",
        "cities.append(‘Chennai’) #as list is mutable it adds the element to the list\n",
        "foo = (1, 2)\n",
        "foo[0] = 3  #as tuple is immutable it does gives error"
      ],
      "metadata": {
        "id": "9VGFOEp6r3vy"
      },
      "execution_count": null,
      "outputs": []
    },
    {
      "cell_type": "markdown",
      "source": [
        "Q.9. Write a code to create the given structure using only for loop.\n",
        "    *\n",
        "   ***\n",
        "  *****\n",
        " *******\n",
        "********* "
      ],
      "metadata": {
        "id": "XJRiwRMRsfsv"
      }
    },
    {
      "cell_type": "code",
      "source": [
        "def triangle(n):\n",
        "    k = n - 1\n",
        "    for i in range(0, n):\n",
        "        for j in range(0, k):\n",
        "            print(end=\" \")\n",
        "        k = k - 1\n",
        "        for j in range(0, i+1):\n",
        "            print(\"* \", end=\"\")\n",
        "        print(\"\\r\")\n",
        "n = 5\n",
        "triangle(n)"
      ],
      "metadata": {
        "colab": {
          "base_uri": "https://localhost:8080/"
        },
        "id": "QTtCGXZdtMnD",
        "outputId": "efaa54ad-3b6a-4edc-ad52-a262d7e7b9a5"
      },
      "execution_count": 3,
      "outputs": [
        {
          "output_type": "stream",
          "name": "stdout",
          "text": [
            "    * \r\n",
            "   * * \r\n",
            "  * * * \r\n",
            " * * * * \r\n",
            "* * * * * \r\n"
          ]
        }
      ]
    },
    {
      "cell_type": "markdown",
      "source": [
        "Q.10. Write a code to create the given structure using while loop.\n",
        "\n",
        "\n",
        "|||||||||\n",
        " |||||||\n",
        "  |||||\n",
        "   |||\n",
        "    |"
      ],
      "metadata": {
        "id": "mDyhTetotfuc"
      }
    },
    {
      "cell_type": "code",
      "source": [
        "n = 5\n",
        "for rows in range(n, 0, -1):\n",
        "    for columns in range(0, n-rows):\n",
        "        print(end=\" \")\n",
        "    for columns in range(0, rows):\n",
        "        print(\"||\", end=\" \")\n",
        "    print()\n"
      ],
      "metadata": {
        "colab": {
          "base_uri": "https://localhost:8080/"
        },
        "id": "6PGvjRR7tjbd",
        "outputId": "def032a6-5919-49ed-8336-c878d5cdd396"
      },
      "execution_count": 6,
      "outputs": [
        {
          "output_type": "stream",
          "name": "stdout",
          "text": [
            "|| || || || || \n",
            " || || || || \n",
            "  || || || \n",
            "   || || \n",
            "    || \n"
          ]
        }
      ]
    },
    {
      "cell_type": "code",
      "source": [],
      "metadata": {
        "id": "uyKigFwMtMxA"
      },
      "execution_count": null,
      "outputs": []
    },
    {
      "cell_type": "markdown",
      "source": [],
      "metadata": {
        "id": "bPYam4exteaf"
      }
    },
    {
      "cell_type": "markdown",
      "source": [],
      "metadata": {
        "id": "ePsHiSqsoFTf"
      }
    }
  ]
}