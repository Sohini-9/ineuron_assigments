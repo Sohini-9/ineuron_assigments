{
  "nbformat": 4,
  "nbformat_minor": 0,
  "metadata": {
    "colab": {
      "provenance": []
    },
    "kernelspec": {
      "name": "python3",
      "display_name": "Python 3"
    },
    "language_info": {
      "name": "python"
    }
  },
  "cells": [
    {
      "cell_type": "code",
      "execution_count": null,
      "metadata": {
        "id": "yG6NshdKuqWH"
      },
      "outputs": [],
      "source": []
    },
    {
      "cell_type": "markdown",
      "source": [
        "Q.1. Create two int type variables, apply addition, subtraction, division and multiplications\n",
        "and store the results in variables. Then print the data in the following format by calling the\n",
        "variables:\n",
        "First variable is __ & second variable is __.\n",
        "Addition: __ + __ = __\n",
        "Subtraction: __ - __ = __\n",
        "Multiplication: __ * __ = __\n",
        "Division: __ / __ = __"
      ],
      "metadata": {
        "id": "ngEnp2deux-w"
      }
    },
    {
      "cell_type": "code",
      "source": [
        "a=5\n",
        "b=6\n",
        "print(\"First variable is\",a,\" & second variable is \",b)\n",
        "print(\"Addition:a+b=\",a+b)\n",
        "print(\"Subtraction:a-b=\",a-b)\n",
        "print(\"Multiplication:a*b=\",a*b)\n",
        "print(\"Division:a/b=\",a/b)"
      ],
      "metadata": {
        "colab": {
          "base_uri": "https://localhost:8080/"
        },
        "id": "a0YVI3r-u2Ky",
        "outputId": "ba3c50a1-45c5-4b67-e630-8d4df0f7eab0"
      },
      "execution_count": 9,
      "outputs": [
        {
          "output_type": "stream",
          "name": "stdout",
          "text": [
            "First variable is 5  & second variable is  6\n",
            "Addition:a+b= 11\n",
            "Subtraction:a-b= -1\n",
            "Multiplication:a*b= 30\n",
            "Division:a/b= 0.8333333333333334\n"
          ]
        }
      ]
    },
    {
      "cell_type": "markdown",
      "source": [
        "Q.2. What is the difference between the following operators:\n",
        "(i) ‘/’ & ‘//’\n",
        "(ii) ‘**’ & ‘^’"
      ],
      "metadata": {
        "id": "6dP38EZTwDvn"
      }
    },
    {
      "cell_type": "code",
      "source": [
        "a = 10\n",
        "b = 3\n",
        "print(a / b)  # Division\n",
        "print(a // b) # Floor Division"
      ],
      "metadata": {
        "id": "7h9YMRu5wW8V"
      },
      "execution_count": null,
      "outputs": []
    },
    {
      "cell_type": "code",
      "source": [
        "a = 10\n",
        "b = 3\n",
        "print(a * b)  # Multiplication, Output: 30**\n",
        "print(a ** b) # Exponent, Output: 1000"
      ],
      "metadata": {
        "id": "qYc3TaQUwY_Q"
      },
      "execution_count": null,
      "outputs": []
    },
    {
      "cell_type": "markdown",
      "source": [
        "Q.3. List the logical operators.\n",
        "\n",
        "-> Used to combine conditional statements."
      ],
      "metadata": {
        "id": "PPDrP1ilwxE0"
      }
    },
    {
      "cell_type": "code",
      "source": [
        "a = True\n",
        "b = False\n",
        "\n",
        "print(a and b) # Logical AND, Output: False\n",
        "print(a or b)  # Logical OR, Output: True\n",
        "print(not a)   # Logical NOT, Output: False"
      ],
      "metadata": {
        "id": "0nEt0cWnw-jk"
      },
      "execution_count": null,
      "outputs": []
    },
    {
      "cell_type": "markdown",
      "source": [
        "Q.4. Explain right shift operator and left shift operator with examples.\n",
        "\n",
        "-> Right Shift Operator: Shifts the bits of the number to the right by the number of bits specified. Each shift to the right corresponds to dividing the number by 2."
      ],
      "metadata": {
        "id": "_68L8Vhow_1v"
      }
    },
    {
      "cell_type": "code",
      "source": [
        "a = 10        # in binary: 1010\n",
        "result = a >> 2  # result is 2 (in binary: 0010)\n",
        "print(result)"
      ],
      "metadata": {
        "id": "ooqtzyCPxHJ_"
      },
      "execution_count": null,
      "outputs": []
    },
    {
      "cell_type": "code",
      "source": [
        "Left Shif Operator: Shifts the bits of the number to the left by the number of bits specified. Each shift to the left corresponds to multiplying the number by 2."
      ],
      "metadata": {
        "id": "eRH77DafxQf8"
      },
      "execution_count": null,
      "outputs": []
    },
    {
      "cell_type": "code",
      "source": [
        "a = 10        # in binary: 1010\n",
        "result = a << 2  # result is 40 (in binary: 101000)\n",
        "print(result)"
      ],
      "metadata": {
        "id": "3ALRxOSMxYrC"
      },
      "execution_count": null,
      "outputs": []
    },
    {
      "cell_type": "markdown",
      "source": [
        "Q.5. Create a list containing int type data of length 15. Then write a code to check if 10 is\n",
        "present in the list or not."
      ],
      "metadata": {
        "id": "LSPl21K7xMET"
      }
    },
    {
      "cell_type": "code",
      "source": [
        "l=[0,1,2,3,4,5,6,7,8,9,10,11,12,13,14]\n",
        "if 10 in l:\n",
        "  print(\"Yes.... 10 is there\")\n",
        "else:\n",
        "  print(\"No..... 10 is not there\")"
      ],
      "metadata": {
        "colab": {
          "base_uri": "https://localhost:8080/"
        },
        "id": "D9QGd4zsxi70",
        "outputId": "6f96139e-d695-44a4-c07c-c5cd0128cecb"
      },
      "execution_count": 10,
      "outputs": [
        {
          "output_type": "stream",
          "name": "stdout",
          "text": [
            "Yes.... 10 is there\n"
          ]
        }
      ]
    }
  ]
}