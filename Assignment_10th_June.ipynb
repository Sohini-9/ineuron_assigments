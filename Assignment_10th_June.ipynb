{
  "nbformat": 4,
  "nbformat_minor": 0,
  "metadata": {
    "colab": {
      "provenance": []
    },
    "kernelspec": {
      "name": "python3",
      "display_name": "Python 3"
    },
    "language_info": {
      "name": "python"
    }
  },
  "cells": [
    {
      "cell_type": "markdown",
      "source": [
        "1. In Python, what is the difference between a built-in function and a user-defined function? Provide an\n",
        "example of each.\n",
        "-> If you define the function yourself, it is a user-defined function. On the other hand, the Python function that come along with Python are known as in-built functions. All the functions apart from in-built functions and library functions come under the category of user-defined functions.\n",
        "Example:\n",
        "In-built functions:\n",
        "len(),type(),etc.\n",
        "User defined function:\n",
        "def perimeter(l,b):\n",
        "    p=2*(l+b)\n",
        "    print(p)"
      ],
      "metadata": {
        "id": "bADfYvsqf7Gc"
      }
    },
    {
      "cell_type": "markdown",
      "source": [
        "2. How can you pass arguments to a function in Python? Explain the difference between positional\n",
        "arguments and keyword arguments.\n",
        "-> Information can be passed into functions as arguments. Arguments are specified after the function name, inside the parentheses. We can add as many arguments as you want, just separate them with a comma.\n",
        "Python functions can contain two types of arguments: positional arguments and keyword arguments. Positional arguments must be included in the correct order. Keyword arguments are included with a keyword and equals sign."
      ],
      "metadata": {
        "id": "2m-rreiUoKEq"
      }
    },
    {
      "cell_type": "markdown",
      "source": [
        "3. What is the purpose of the return statement in a function? Can a function have multiple return\n",
        "statements? Explain with an example.\n",
        "-> A return statement is used to end the execution of the function call and returns the result to the caller.\n",
        "A function can have multiple return statements. When any of them is executed, the function terminates.\n",
        "Example:\n",
        "def type_of_int(i):\n",
        "    if i % 2 == 0:\n",
        "        return 'even'\n",
        "    else:\n",
        "        return 'odd'\n",
        "result = type_of_int(7)\n",
        "print(result)"
      ],
      "metadata": {
        "id": "RrfYgkQ7PSkr"
      }
    },
    {
      "cell_type": "markdown",
      "source": [
        "4. What are lambda functions in Python? How are they different from regular functions? Provide an\n",
        "example where a lambda function can be useful.\n",
        "-> A lambda function is an anonymous function (i.e., defined without a name) that can take any number of arguments but, unlike normal functions, evaluates and returns only one expression.\n",
        "The limited operation can be performed using lambda functions. No need of using the return statement. Execution time of the program is fast for the same operation. Defined using the keyword lambda and does not compulsorily hold a function name in the local namespace.\n",
        "Lambda functions are efficient whenever you want to create a function that will only contain simple expressions – that is, expressions that are usually a single line of a statement.\n",
        "Eg., lambda x: x + 1"
      ],
      "metadata": {
        "id": "bl_X_YHQQHhZ"
      }
    },
    {
      "cell_type": "markdown",
      "source": [
        "5. How does the concept of \"scope\" apply to functions in Python? Explain the difference between local\n",
        "scope and global scope.\n",
        "-> The scope defines the accessibility of the python object. To access the particular variable in the code, the scope must be defined as it cannot be accessed from anywhere in the program. The particular coding region where variables are visible is known as scope.\n",
        "Local variables are created when the function starts its execution and are lost when the function ends. Global variables, on the other hand, are created as execution of the program begins and are lost when the program is ended."
      ],
      "metadata": {
        "id": "aCDsneUrQ-wy"
      }
    },
    {
      "cell_type": "markdown",
      "source": [
        "6. How can you use the \"return\" statement in a Python function to return multiple values?\n",
        "-> In Python, you can return multiple values by simply separating them with commas in the return statement.\n",
        "Eg.,\n",
        "def test():\n",
        "    return 'abc', 100"
      ],
      "metadata": {
        "id": "YprlUTR3RQCq"
      }
    },
    {
      "cell_type": "markdown",
      "source": [
        "7. What is the difference between the \"pass by value\" and \"pass by reference\" concepts when it\n",
        "comes to function arguments in Python?\n",
        "-> In passby value, we pass a copy of actual variables in function as a parameter. Hence any modification on parameters inside the function will not reflect in the actual variable.\n",
        "Pass by reference means that we have to pass the function(reference) to a variable which refers that the variable already exists in memory."
      ],
      "metadata": {
        "id": "azCh0UKDRdDR"
      }
    },
    {
      "cell_type": "markdown",
      "source": [
        "8. Create a function that can intake integer or decimal value and do following operations:\n",
        "a. Logarithmic function (log x)\n",
        "b. Exponential function (exp(x))\n",
        "c. Power function with base 2 (2x)\n",
        "d. Square root\n",
        "-> a. Logarithmic function (log x):\n",
        "import math   \n",
        "print(\"Log value: \", math.log(2))\n",
        "b. Exponential function (exp(x)):\n",
        "import math\n",
        "print \"math.exp(100.12) : \", math.exp(100.12)\n",
        "c. Power function with base 2 (2x):\n",
        "import math\n",
        "print (math.pow(2,3))\n",
        "d. Square root:\n",
        "import math\n",
        "math.sqrt(144)"
      ],
      "metadata": {
        "id": "ZWpXZPHKR-ya"
      }
    },
    {
      "cell_type": "markdown",
      "source": [
        "9. Create a function that takes a full name as an argument and returns first name and last name.\n",
        "-> fullname=\"Sohini Chaudhuri\"\n",
        "   first=fullname.split()[0]\n",
        "   last=fullname.split()[-1]\n",
        "   print(first + ',' + last)"
      ],
      "metadata": {
        "id": "Uhs6bH40SjsZ"
      }
    }
  ]
}