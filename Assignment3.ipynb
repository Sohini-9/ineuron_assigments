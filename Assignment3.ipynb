{
  "nbformat": 4,
  "nbformat_minor": 0,
  "metadata": {
    "colab": {
      "provenance": []
    },
    "kernelspec": {
      "name": "python3",
      "display_name": "Python 3"
    },
    "language_info": {
      "name": "python"
    }
  },
  "cells": [
    {
      "cell_type": "code",
      "execution_count": null,
      "metadata": {
        "id": "hFjSHa6QCq8x"
      },
      "outputs": [],
      "source": []
    },
    {
      "cell_type": "markdown",
      "source": [
        "1. Why are functions advantageous to have in your programs?\n",
        "-> Functions reduce the need for duplicate code. This makes programs shorter, easier to read, and easier to update.\n",
        "This makes programs shorter, easier to read, and easier to update."
      ],
      "metadata": {
        "id": "F5n9drUpC8Wd"
      }
    },
    {
      "cell_type": "markdown",
      "source": [
        "2. When does the code in a function run: when it's specified or when it's called?\n",
        "-> Code in a function runs when the function is called."
      ],
      "metadata": {
        "id": "Qa1cQLHEHpnt"
      }
    },
    {
      "cell_type": "markdown",
      "source": [
        "3. What statement creates a function?\n",
        "-> The def statement creates a function.\n",
        "Eg.,\n",
        "def f():\n",
        "pass"
      ],
      "metadata": {
        "id": "e4dtpYQoH5Fh"
      }
    },
    {
      "cell_type": "markdown",
      "source": [
        "4. What is the difference between a function and a function call?\n",
        "-> A function consists of the def statement and the code in its def clause.\n",
        "A function call is what moves the program execution into the function, and the function call evaluates to the function's return value."
      ],
      "metadata": {
        "id": "iEhLNHdlIVbj"
      }
    },
    {
      "cell_type": "markdown",
      "source": [
        "5. How many global scopes are there in a Python program? How many local scopes?\n",
        "-> There's only one global Python scope per program execution. This scope remains in existence until the program terminates , and a local scope is created whenever a function is called."
      ],
      "metadata": {
        "id": "sqSwacSqJuGz"
      }
    },
    {
      "cell_type": "markdown",
      "source": [
        "6. What happens to variables in a local scope when the function call returns?\n",
        "-> The local scope is destroyed when a function returns."
      ],
      "metadata": {
        "id": "OZKzIOR-KDyP"
      }
    },
    {
      "cell_type": "markdown",
      "source": [
        "7. What is the concept of a return value? Is it possible to have a return value in an expression?\n",
        "-> A return value is the value that a function call evaluates to. Yes, it is possible to have a return value as part of an expression."
      ],
      "metadata": {
        "id": "Tl9QEhH_Kzad"
      }
    },
    {
      "cell_type": "markdown",
      "source": [
        "8. If a function does not have a return statement, what is the return value of a call to that function?\n",
        "-> If the funtion does not have a return statement it will not return anything."
      ],
      "metadata": {
        "id": "prSpIvrlLC-1"
      }
    },
    {
      "cell_type": "markdown",
      "source": [
        "9. How do you make a function variable refer to the global variable?\n",
        "-> To make function variable as a global variable we can use the global keyword to declare which variables are global."
      ],
      "metadata": {
        "id": "38AwxITyLRot"
      }
    },
    {
      "cell_type": "markdown",
      "source": [
        "10. What is the data type of None?\n",
        "-> The data type of None is NoneType."
      ],
      "metadata": {
        "id": "gdcASX5ULhfR"
      }
    },
    {
      "cell_type": "markdown",
      "source": [
        "11. What does the sentence import areallyourpetsnamederic do?\n",
        "-> That import statement imports a module named areallyourpetsnamederic."
      ],
      "metadata": {
        "id": "G0cOG0XoLnqE"
      }
    },
    {
      "cell_type": "markdown",
      "source": [
        "12. If you had a bacon() feature in a spam module, what would you call it after importing spam?\n",
        "-> import spam\n",
        "spam.bacon()"
      ],
      "metadata": {
        "id": "yLX5lBhcL0AW"
      }
    },
    {
      "cell_type": "markdown",
      "source": [
        "13. What can you do to save a programme from crashing if it encounters an error?\n",
        "-> We can use try except clause to save a program from crashing."
      ],
      "metadata": {
        "id": "YyUhEPxtL9Wp"
      }
    },
    {
      "cell_type": "markdown",
      "source": [
        "14. What is the purpose of the try clause? What is the purpose of the except clause?\n",
        "-> Try and Except clause is used to handle the errors within our code . The try block is used to check some code for errors i.e the code inside the try block will execute when there is no error in the program. Whereas the code inside the except block will execute whenever the program encounters some error in the try block."
      ],
      "metadata": {
        "id": "lAbmeP33MDTm"
      }
    },
    {
      "cell_type": "markdown",
      "source": [],
      "metadata": {
        "id": "5xL2X8AfLI_2"
      }
    },
    {
      "cell_type": "markdown",
      "source": [],
      "metadata": {
        "id": "TW7vIQOmKlKx"
      }
    }
  ]
}